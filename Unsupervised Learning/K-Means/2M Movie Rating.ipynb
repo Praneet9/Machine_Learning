{
 "cells": [
  {
   "cell_type": "code",
   "execution_count": 1,
   "metadata": {
    "ExecuteTime": {
     "end_time": "2019-07-10T03:40:26.333868Z",
     "start_time": "2019-07-10T03:40:25.478970Z"
    }
   },
   "outputs": [],
   "source": [
    "import pandas as pd\n",
    "import numpy as np\n",
    "import matplotlib.pyplot as plt\n",
    "from scipy.sparse import csr_matrix"
   ]
  },
  {
   "cell_type": "code",
   "execution_count": 2,
   "metadata": {
    "ExecuteTime": {
     "end_time": "2019-07-10T03:40:26.688234Z",
     "start_time": "2019-07-10T03:40:26.676461Z"
    }
   },
   "outputs": [],
   "source": [
    "%matplotlib inline"
   ]
  },
  {
   "cell_type": "code",
   "execution_count": 3,
   "metadata": {
    "ExecuteTime": {
     "end_time": "2019-07-10T03:40:27.285013Z",
     "start_time": "2019-07-10T03:40:27.212179Z"
    }
   },
   "outputs": [
    {
     "data": {
      "text/html": [
       "<div>\n",
       "<style scoped>\n",
       "    .dataframe tbody tr th:only-of-type {\n",
       "        vertical-align: middle;\n",
       "    }\n",
       "\n",
       "    .dataframe tbody tr th {\n",
       "        vertical-align: top;\n",
       "    }\n",
       "\n",
       "    .dataframe thead th {\n",
       "        text-align: right;\n",
       "    }\n",
       "</style>\n",
       "<table border=\"1\" class=\"dataframe\">\n",
       "  <thead>\n",
       "    <tr style=\"text-align: right;\">\n",
       "      <th></th>\n",
       "      <th>movieId</th>\n",
       "      <th>title</th>\n",
       "      <th>genres</th>\n",
       "    </tr>\n",
       "  </thead>\n",
       "  <tbody>\n",
       "    <tr>\n",
       "      <th>0</th>\n",
       "      <td>1</td>\n",
       "      <td>Toy Story (1995)</td>\n",
       "      <td>Adventure|Animation|Children|Comedy|Fantasy</td>\n",
       "    </tr>\n",
       "    <tr>\n",
       "      <th>1</th>\n",
       "      <td>2</td>\n",
       "      <td>Jumanji (1995)</td>\n",
       "      <td>Adventure|Children|Fantasy</td>\n",
       "    </tr>\n",
       "    <tr>\n",
       "      <th>2</th>\n",
       "      <td>3</td>\n",
       "      <td>Grumpier Old Men (1995)</td>\n",
       "      <td>Comedy|Romance</td>\n",
       "    </tr>\n",
       "    <tr>\n",
       "      <th>3</th>\n",
       "      <td>4</td>\n",
       "      <td>Waiting to Exhale (1995)</td>\n",
       "      <td>Comedy|Drama|Romance</td>\n",
       "    </tr>\n",
       "    <tr>\n",
       "      <th>4</th>\n",
       "      <td>5</td>\n",
       "      <td>Father of the Bride Part II (1995)</td>\n",
       "      <td>Comedy</td>\n",
       "    </tr>\n",
       "  </tbody>\n",
       "</table>\n",
       "</div>"
      ],
      "text/plain": [
       "   movieId                               title  \\\n",
       "0        1                    Toy Story (1995)   \n",
       "1        2                      Jumanji (1995)   \n",
       "2        3             Grumpier Old Men (1995)   \n",
       "3        4            Waiting to Exhale (1995)   \n",
       "4        5  Father of the Bride Part II (1995)   \n",
       "\n",
       "                                        genres  \n",
       "0  Adventure|Animation|Children|Comedy|Fantasy  \n",
       "1                   Adventure|Children|Fantasy  \n",
       "2                               Comedy|Romance  \n",
       "3                         Comedy|Drama|Romance  \n",
       "4                                       Comedy  "
      ]
     },
     "execution_count": 3,
     "metadata": {},
     "output_type": "execute_result"
    }
   ],
   "source": [
    "# Read movies from csv\n",
    "movies = pd.read_csv('ignore/movies.csv')\n",
    "movies.head()"
   ]
  },
  {
   "cell_type": "code",
   "execution_count": 4,
   "metadata": {
    "ExecuteTime": {
     "end_time": "2019-07-10T03:40:37.712492Z",
     "start_time": "2019-07-10T03:40:27.903356Z"
    }
   },
   "outputs": [
    {
     "data": {
      "text/html": [
       "<div>\n",
       "<style scoped>\n",
       "    .dataframe tbody tr th:only-of-type {\n",
       "        vertical-align: middle;\n",
       "    }\n",
       "\n",
       "    .dataframe tbody tr th {\n",
       "        vertical-align: top;\n",
       "    }\n",
       "\n",
       "    .dataframe thead th {\n",
       "        text-align: right;\n",
       "    }\n",
       "</style>\n",
       "<table border=\"1\" class=\"dataframe\">\n",
       "  <thead>\n",
       "    <tr style=\"text-align: right;\">\n",
       "      <th></th>\n",
       "      <th>userId</th>\n",
       "      <th>movieId</th>\n",
       "      <th>rating</th>\n",
       "      <th>timestamp</th>\n",
       "    </tr>\n",
       "  </thead>\n",
       "  <tbody>\n",
       "    <tr>\n",
       "      <th>0</th>\n",
       "      <td>1</td>\n",
       "      <td>2</td>\n",
       "      <td>3.5</td>\n",
       "      <td>1112486027</td>\n",
       "    </tr>\n",
       "    <tr>\n",
       "      <th>1</th>\n",
       "      <td>1</td>\n",
       "      <td>29</td>\n",
       "      <td>3.5</td>\n",
       "      <td>1112484676</td>\n",
       "    </tr>\n",
       "    <tr>\n",
       "      <th>2</th>\n",
       "      <td>1</td>\n",
       "      <td>32</td>\n",
       "      <td>3.5</td>\n",
       "      <td>1112484819</td>\n",
       "    </tr>\n",
       "    <tr>\n",
       "      <th>3</th>\n",
       "      <td>1</td>\n",
       "      <td>47</td>\n",
       "      <td>3.5</td>\n",
       "      <td>1112484727</td>\n",
       "    </tr>\n",
       "    <tr>\n",
       "      <th>4</th>\n",
       "      <td>1</td>\n",
       "      <td>50</td>\n",
       "      <td>3.5</td>\n",
       "      <td>1112484580</td>\n",
       "    </tr>\n",
       "  </tbody>\n",
       "</table>\n",
       "</div>"
      ],
      "text/plain": [
       "   userId  movieId  rating   timestamp\n",
       "0       1        2     3.5  1112486027\n",
       "1       1       29     3.5  1112484676\n",
       "2       1       32     3.5  1112484819\n",
       "3       1       47     3.5  1112484727\n",
       "4       1       50     3.5  1112484580"
      ]
     },
     "execution_count": 4,
     "metadata": {},
     "output_type": "execute_result"
    }
   ],
   "source": [
    "# Read the ratings\n",
    "ratings = pd.read_csv('ignore/ratings.csv')\n",
    "ratings.head()"
   ]
  },
  {
   "cell_type": "code",
   "execution_count": 5,
   "metadata": {
    "ExecuteTime": {
     "end_time": "2019-07-10T03:40:37.803221Z",
     "start_time": "2019-07-10T03:40:37.783852Z"
    }
   },
   "outputs": [
    {
     "name": "stdout",
     "output_type": "stream",
     "text": [
      "The dataset contains:  20000263  ratings of  27278  movies.\n"
     ]
    }
   ],
   "source": [
    "print('The dataset contains: ', len(ratings), ' ratings of ', len(movies), ' movies.')"
   ]
  },
  {
   "cell_type": "code",
   "execution_count": 6,
   "metadata": {
    "ExecuteTime": {
     "end_time": "2019-07-10T03:40:38.286837Z",
     "start_time": "2019-07-10T03:40:37.900426Z"
    }
   },
   "outputs": [
    {
     "data": {
      "text/html": [
       "<div>\n",
       "<style scoped>\n",
       "    .dataframe tbody tr th:only-of-type {\n",
       "        vertical-align: middle;\n",
       "    }\n",
       "\n",
       "    .dataframe tbody tr th {\n",
       "        vertical-align: top;\n",
       "    }\n",
       "\n",
       "    .dataframe thead th {\n",
       "        text-align: right;\n",
       "    }\n",
       "</style>\n",
       "<table border=\"1\" class=\"dataframe\">\n",
       "  <thead>\n",
       "    <tr style=\"text-align: right;\">\n",
       "      <th></th>\n",
       "      <th>userId</th>\n",
       "      <th>movieId</th>\n",
       "      <th>rating</th>\n",
       "    </tr>\n",
       "  </thead>\n",
       "  <tbody>\n",
       "    <tr>\n",
       "      <th>0</th>\n",
       "      <td>1</td>\n",
       "      <td>2</td>\n",
       "      <td>3.5</td>\n",
       "    </tr>\n",
       "    <tr>\n",
       "      <th>1</th>\n",
       "      <td>1</td>\n",
       "      <td>29</td>\n",
       "      <td>3.5</td>\n",
       "    </tr>\n",
       "    <tr>\n",
       "      <th>2</th>\n",
       "      <td>1</td>\n",
       "      <td>32</td>\n",
       "      <td>3.5</td>\n",
       "    </tr>\n",
       "    <tr>\n",
       "      <th>3</th>\n",
       "      <td>1</td>\n",
       "      <td>47</td>\n",
       "      <td>3.5</td>\n",
       "    </tr>\n",
       "    <tr>\n",
       "      <th>4</th>\n",
       "      <td>1</td>\n",
       "      <td>50</td>\n",
       "      <td>3.5</td>\n",
       "    </tr>\n",
       "  </tbody>\n",
       "</table>\n",
       "</div>"
      ],
      "text/plain": [
       "   userId  movieId  rating\n",
       "0       1        2     3.5\n",
       "1       1       29     3.5\n",
       "2       1       32     3.5\n",
       "3       1       47     3.5\n",
       "4       1       50     3.5"
      ]
     },
     "execution_count": 6,
     "metadata": {},
     "output_type": "execute_result"
    }
   ],
   "source": [
    "ratings = ratings.drop('timestamp', axis=1)\n",
    "ratings.head()"
   ]
  },
  {
   "cell_type": "code",
   "execution_count": 15,
   "metadata": {
    "ExecuteTime": {
     "end_time": "2019-07-10T03:48:47.276290Z",
     "start_time": "2019-07-10T03:48:47.267933Z"
    }
   },
   "outputs": [],
   "source": [
    "def get_genres(df):\n",
    "    genres = set()\n",
    "    for i in df:\n",
    "        temp = i.split('|')\n",
    "        for genre in temp:\n",
    "            if genre not in genres:\n",
    "                genres.add(genre)\n",
    "    return genres"
   ]
  },
  {
   "cell_type": "code",
   "execution_count": 35,
   "metadata": {
    "ExecuteTime": {
     "end_time": "2019-07-10T04:13:40.236038Z",
     "start_time": "2019-07-10T04:13:40.190676Z"
    }
   },
   "outputs": [
    {
     "data": {
      "text/plain": [
       "['Animation',\n",
       " 'Action',\n",
       " 'Horror',\n",
       " 'Crime',\n",
       " 'Western',\n",
       " 'Drama',\n",
       " 'Romance',\n",
       " 'Adventure',\n",
       " 'Mystery',\n",
       " 'Documentary',\n",
       " 'Fantasy',\n",
       " 'War',\n",
       " 'Musical',\n",
       " 'Film-Noir',\n",
       " 'Thriller',\n",
       " 'Comedy',\n",
       " 'Sci-Fi',\n",
       " 'Children']"
      ]
     },
     "execution_count": 35,
     "metadata": {},
     "output_type": "execute_result"
    }
   ],
   "source": [
    "all_genres = get_genres(movies['genres'])\n",
    "all_genres.remove('(no genres listed)')\n",
    "all_genres.remove('IMAX')\n",
    "all_genres = list(all_genres)\n",
    "all_genres"
   ]
  },
  {
   "cell_type": "code",
   "execution_count": 38,
   "metadata": {
    "ExecuteTime": {
     "end_time": "2019-07-10T04:15:07.032196Z",
     "start_time": "2019-07-10T04:15:07.013353Z"
    }
   },
   "outputs": [
    {
     "data": {
      "text/plain": [
       "['Avg_Animation',\n",
       " 'Avg_Action',\n",
       " 'Avg_Horror',\n",
       " 'Avg_Crime',\n",
       " 'Avg_Western',\n",
       " 'Avg_Drama',\n",
       " 'Avg_Romance',\n",
       " 'Avg_Adventure',\n",
       " 'Avg_Mystery',\n",
       " 'Avg_Documentary',\n",
       " 'Avg_Fantasy',\n",
       " 'Avg_War',\n",
       " 'Avg_Musical',\n",
       " 'Avg_Film-Noir',\n",
       " 'Avg_Thriller',\n",
       " 'Avg_Comedy',\n",
       " 'Avg_Sci-Fi',\n",
       " 'Avg_Children']"
      ]
     },
     "execution_count": 38,
     "metadata": {},
     "output_type": "execute_result"
    }
   ],
   "source": [
    "column_names = []\n",
    "for genre in all_genres:\n",
    "    column_names.append('Avg_{}'.format(genre))\n",
    "column_names"
   ]
  },
  {
   "cell_type": "code",
   "execution_count": 39,
   "metadata": {
    "ExecuteTime": {
     "end_time": "2019-07-10T04:15:20.161465Z",
     "start_time": "2019-07-10T04:15:20.151577Z"
    }
   },
   "outputs": [],
   "source": [
    "def get_genre_ratings(ratings, movies, genres, column_names):\n",
    "    genre_ratings = pd.DataFrame()\n",
    "    for genre in genres:        \n",
    "        genre_movies = movies[movies['genres'].str.contains(genre) ]\n",
    "        avg_genre_votes_per_user = ratings[ratings['movieId'].isin(genre_movies['movieId'])].loc[:, ['userId', 'rating']].groupby(['userId'])['rating'].mean().round(2)\n",
    "        \n",
    "        genre_ratings = pd.concat([genre_ratings, avg_genre_votes_per_user], axis=1)\n",
    "        \n",
    "    # print(genre_ratings)\n",
    "    genre_ratings.columns = column_names\n",
    "    return genre_ratings"
   ]
  },
  {
   "cell_type": "code",
   "execution_count": 40,
   "metadata": {
    "ExecuteTime": {
     "end_time": "2019-07-10T04:17:21.293068Z",
     "start_time": "2019-07-10T04:16:00.074879Z"
    }
   },
   "outputs": [
    {
     "data": {
      "text/html": [
       "<div>\n",
       "<style scoped>\n",
       "    .dataframe tbody tr th:only-of-type {\n",
       "        vertical-align: middle;\n",
       "    }\n",
       "\n",
       "    .dataframe tbody tr th {\n",
       "        vertical-align: top;\n",
       "    }\n",
       "\n",
       "    .dataframe thead th {\n",
       "        text-align: right;\n",
       "    }\n",
       "</style>\n",
       "<table border=\"1\" class=\"dataframe\">\n",
       "  <thead>\n",
       "    <tr style=\"text-align: right;\">\n",
       "      <th></th>\n",
       "      <th>Avg_Animation</th>\n",
       "      <th>Avg_Action</th>\n",
       "      <th>Avg_Horror</th>\n",
       "      <th>Avg_Crime</th>\n",
       "      <th>Avg_Western</th>\n",
       "      <th>Avg_Drama</th>\n",
       "      <th>Avg_Romance</th>\n",
       "      <th>Avg_Adventure</th>\n",
       "      <th>Avg_Mystery</th>\n",
       "      <th>Avg_Documentary</th>\n",
       "      <th>Avg_Fantasy</th>\n",
       "      <th>Avg_War</th>\n",
       "      <th>Avg_Musical</th>\n",
       "      <th>Avg_Film-Noir</th>\n",
       "      <th>Avg_Thriller</th>\n",
       "      <th>Avg_Comedy</th>\n",
       "      <th>Avg_Sci-Fi</th>\n",
       "      <th>Avg_Children</th>\n",
       "    </tr>\n",
       "    <tr>\n",
       "      <th>userId</th>\n",
       "      <th></th>\n",
       "      <th></th>\n",
       "      <th></th>\n",
       "      <th></th>\n",
       "      <th></th>\n",
       "      <th></th>\n",
       "      <th></th>\n",
       "      <th></th>\n",
       "      <th></th>\n",
       "      <th></th>\n",
       "      <th></th>\n",
       "      <th></th>\n",
       "      <th></th>\n",
       "      <th></th>\n",
       "      <th></th>\n",
       "      <th></th>\n",
       "      <th></th>\n",
       "      <th></th>\n",
       "    </tr>\n",
       "  </thead>\n",
       "  <tbody>\n",
       "    <tr>\n",
       "      <th>1</th>\n",
       "      <td>3.65</td>\n",
       "      <td>3.73</td>\n",
       "      <td>3.74</td>\n",
       "      <td>3.81</td>\n",
       "      <td>3.38</td>\n",
       "      <td>3.77</td>\n",
       "      <td>3.95</td>\n",
       "      <td>3.79</td>\n",
       "      <td>3.61</td>\n",
       "      <td>NaN</td>\n",
       "      <td>3.79</td>\n",
       "      <td>3.67</td>\n",
       "      <td>3.67</td>\n",
       "      <td>NaN</td>\n",
       "      <td>3.76</td>\n",
       "      <td>3.73</td>\n",
       "      <td>3.71</td>\n",
       "      <td>3.61</td>\n",
       "    </tr>\n",
       "    <tr>\n",
       "      <th>2</th>\n",
       "      <td>3.00</td>\n",
       "      <td>4.63</td>\n",
       "      <td>3.56</td>\n",
       "      <td>5.00</td>\n",
       "      <td>4.50</td>\n",
       "      <td>3.89</td>\n",
       "      <td>3.83</td>\n",
       "      <td>4.82</td>\n",
       "      <td>4.50</td>\n",
       "      <td>NaN</td>\n",
       "      <td>2.00</td>\n",
       "      <td>4.25</td>\n",
       "      <td>3.00</td>\n",
       "      <td>5.0</td>\n",
       "      <td>4.26</td>\n",
       "      <td>3.90</td>\n",
       "      <td>4.61</td>\n",
       "      <td>3.00</td>\n",
       "    </tr>\n",
       "    <tr>\n",
       "      <th>3</th>\n",
       "      <td>3.75</td>\n",
       "      <td>4.11</td>\n",
       "      <td>3.94</td>\n",
       "      <td>4.29</td>\n",
       "      <td>4.33</td>\n",
       "      <td>4.22</td>\n",
       "      <td>4.06</td>\n",
       "      <td>4.22</td>\n",
       "      <td>4.36</td>\n",
       "      <td>4.0</td>\n",
       "      <td>4.30</td>\n",
       "      <td>4.67</td>\n",
       "      <td>4.00</td>\n",
       "      <td>3.0</td>\n",
       "      <td>4.26</td>\n",
       "      <td>4.06</td>\n",
       "      <td>4.00</td>\n",
       "      <td>4.30</td>\n",
       "    </tr>\n",
       "    <tr>\n",
       "      <th>4</th>\n",
       "      <td>4.00</td>\n",
       "      <td>3.54</td>\n",
       "      <td>NaN</td>\n",
       "      <td>3.17</td>\n",
       "      <td>4.00</td>\n",
       "      <td>3.75</td>\n",
       "      <td>3.50</td>\n",
       "      <td>3.83</td>\n",
       "      <td>2.67</td>\n",
       "      <td>NaN</td>\n",
       "      <td>3.67</td>\n",
       "      <td>4.00</td>\n",
       "      <td>4.00</td>\n",
       "      <td>NaN</td>\n",
       "      <td>3.46</td>\n",
       "      <td>3.55</td>\n",
       "      <td>3.00</td>\n",
       "      <td>3.75</td>\n",
       "    </tr>\n",
       "    <tr>\n",
       "      <th>5</th>\n",
       "      <td>4.67</td>\n",
       "      <td>4.50</td>\n",
       "      <td>3.00</td>\n",
       "      <td>4.14</td>\n",
       "      <td>5.00</td>\n",
       "      <td>4.19</td>\n",
       "      <td>3.94</td>\n",
       "      <td>4.52</td>\n",
       "      <td>3.50</td>\n",
       "      <td>NaN</td>\n",
       "      <td>3.73</td>\n",
       "      <td>4.00</td>\n",
       "      <td>4.38</td>\n",
       "      <td>NaN</td>\n",
       "      <td>4.33</td>\n",
       "      <td>4.08</td>\n",
       "      <td>4.60</td>\n",
       "      <td>4.18</td>\n",
       "    </tr>\n",
       "  </tbody>\n",
       "</table>\n",
       "</div>"
      ],
      "text/plain": [
       "        Avg_Animation  Avg_Action  Avg_Horror  Avg_Crime  Avg_Western  \\\n",
       "userId                                                                  \n",
       "1                3.65        3.73        3.74       3.81         3.38   \n",
       "2                3.00        4.63        3.56       5.00         4.50   \n",
       "3                3.75        4.11        3.94       4.29         4.33   \n",
       "4                4.00        3.54         NaN       3.17         4.00   \n",
       "5                4.67        4.50        3.00       4.14         5.00   \n",
       "\n",
       "        Avg_Drama  Avg_Romance  Avg_Adventure  Avg_Mystery  Avg_Documentary  \\\n",
       "userId                                                                        \n",
       "1            3.77         3.95           3.79         3.61              NaN   \n",
       "2            3.89         3.83           4.82         4.50              NaN   \n",
       "3            4.22         4.06           4.22         4.36              4.0   \n",
       "4            3.75         3.50           3.83         2.67              NaN   \n",
       "5            4.19         3.94           4.52         3.50              NaN   \n",
       "\n",
       "        Avg_Fantasy  Avg_War  Avg_Musical  Avg_Film-Noir  Avg_Thriller  \\\n",
       "userId                                                                   \n",
       "1              3.79     3.67         3.67            NaN          3.76   \n",
       "2              2.00     4.25         3.00            5.0          4.26   \n",
       "3              4.30     4.67         4.00            3.0          4.26   \n",
       "4              3.67     4.00         4.00            NaN          3.46   \n",
       "5              3.73     4.00         4.38            NaN          4.33   \n",
       "\n",
       "        Avg_Comedy  Avg_Sci-Fi  Avg_Children  \n",
       "userId                                        \n",
       "1             3.73        3.71          3.61  \n",
       "2             3.90        4.61          3.00  \n",
       "3             4.06        4.00          4.30  \n",
       "4             3.55        3.00          3.75  \n",
       "5             4.08        4.60          4.18  "
      ]
     },
     "execution_count": 40,
     "metadata": {},
     "output_type": "execute_result"
    }
   ],
   "source": [
    "genre_ratings = get_genre_ratings(ratings, movies, all_genres, column_names)\n",
    "genre_ratings.head()"
   ]
  },
  {
   "cell_type": "code",
   "execution_count": 50,
   "metadata": {
    "ExecuteTime": {
     "end_time": "2019-07-10T04:44:10.592378Z",
     "start_time": "2019-07-10T04:44:10.587016Z"
    }
   },
   "outputs": [],
   "source": [
    "import math"
   ]
  },
  {
   "cell_type": "code",
   "execution_count": 52,
   "metadata": {
    "ExecuteTime": {
     "end_time": "2019-07-10T04:44:52.616287Z",
     "start_time": "2019-07-10T04:44:52.539308Z"
    }
   },
   "outputs": [
    {
     "data": {
      "text/html": [
       "<div>\n",
       "<style scoped>\n",
       "    .dataframe tbody tr th:only-of-type {\n",
       "        vertical-align: middle;\n",
       "    }\n",
       "\n",
       "    .dataframe tbody tr th {\n",
       "        vertical-align: top;\n",
       "    }\n",
       "\n",
       "    .dataframe thead th {\n",
       "        text-align: right;\n",
       "    }\n",
       "</style>\n",
       "<table border=\"1\" class=\"dataframe\">\n",
       "  <thead>\n",
       "    <tr style=\"text-align: right;\">\n",
       "      <th></th>\n",
       "      <th>Avg_Animation</th>\n",
       "      <th>Avg_Action</th>\n",
       "      <th>Avg_Horror</th>\n",
       "      <th>Avg_Crime</th>\n",
       "      <th>Avg_Western</th>\n",
       "      <th>Avg_Drama</th>\n",
       "      <th>Avg_Romance</th>\n",
       "      <th>Avg_Adventure</th>\n",
       "      <th>Avg_Mystery</th>\n",
       "      <th>Avg_Documentary</th>\n",
       "      <th>Avg_Fantasy</th>\n",
       "      <th>Avg_War</th>\n",
       "      <th>Avg_Musical</th>\n",
       "      <th>Avg_Film-Noir</th>\n",
       "      <th>Avg_Thriller</th>\n",
       "      <th>Avg_Comedy</th>\n",
       "      <th>Avg_Sci-Fi</th>\n",
       "      <th>Avg_Children</th>\n",
       "    </tr>\n",
       "    <tr>\n",
       "      <th>userId</th>\n",
       "      <th></th>\n",
       "      <th></th>\n",
       "      <th></th>\n",
       "      <th></th>\n",
       "      <th></th>\n",
       "      <th></th>\n",
       "      <th></th>\n",
       "      <th></th>\n",
       "      <th></th>\n",
       "      <th></th>\n",
       "      <th></th>\n",
       "      <th></th>\n",
       "      <th></th>\n",
       "      <th></th>\n",
       "      <th></th>\n",
       "      <th></th>\n",
       "      <th></th>\n",
       "      <th></th>\n",
       "    </tr>\n",
       "  </thead>\n",
       "  <tbody>\n",
       "    <tr>\n",
       "      <th>1</th>\n",
       "      <td>3.65</td>\n",
       "      <td>3.73</td>\n",
       "      <td>3.74</td>\n",
       "      <td>3.81</td>\n",
       "      <td>3.38</td>\n",
       "      <td>3.77</td>\n",
       "      <td>3.95</td>\n",
       "      <td>3.79</td>\n",
       "      <td>3.61</td>\n",
       "      <td>0.0</td>\n",
       "      <td>3.79</td>\n",
       "      <td>3.67</td>\n",
       "      <td>3.67</td>\n",
       "      <td>0.0</td>\n",
       "      <td>3.76</td>\n",
       "      <td>3.73</td>\n",
       "      <td>3.71</td>\n",
       "      <td>3.61</td>\n",
       "    </tr>\n",
       "    <tr>\n",
       "      <th>2</th>\n",
       "      <td>3.00</td>\n",
       "      <td>4.63</td>\n",
       "      <td>3.56</td>\n",
       "      <td>5.00</td>\n",
       "      <td>4.50</td>\n",
       "      <td>3.89</td>\n",
       "      <td>3.83</td>\n",
       "      <td>4.82</td>\n",
       "      <td>4.50</td>\n",
       "      <td>0.0</td>\n",
       "      <td>2.00</td>\n",
       "      <td>4.25</td>\n",
       "      <td>3.00</td>\n",
       "      <td>5.0</td>\n",
       "      <td>4.26</td>\n",
       "      <td>3.90</td>\n",
       "      <td>4.61</td>\n",
       "      <td>3.00</td>\n",
       "    </tr>\n",
       "    <tr>\n",
       "      <th>3</th>\n",
       "      <td>3.75</td>\n",
       "      <td>4.11</td>\n",
       "      <td>3.94</td>\n",
       "      <td>4.29</td>\n",
       "      <td>4.33</td>\n",
       "      <td>4.22</td>\n",
       "      <td>4.06</td>\n",
       "      <td>4.22</td>\n",
       "      <td>4.36</td>\n",
       "      <td>4.0</td>\n",
       "      <td>4.30</td>\n",
       "      <td>4.67</td>\n",
       "      <td>4.00</td>\n",
       "      <td>3.0</td>\n",
       "      <td>4.26</td>\n",
       "      <td>4.06</td>\n",
       "      <td>4.00</td>\n",
       "      <td>4.30</td>\n",
       "    </tr>\n",
       "    <tr>\n",
       "      <th>4</th>\n",
       "      <td>4.00</td>\n",
       "      <td>3.54</td>\n",
       "      <td>0.00</td>\n",
       "      <td>3.17</td>\n",
       "      <td>4.00</td>\n",
       "      <td>3.75</td>\n",
       "      <td>3.50</td>\n",
       "      <td>3.83</td>\n",
       "      <td>2.67</td>\n",
       "      <td>0.0</td>\n",
       "      <td>3.67</td>\n",
       "      <td>4.00</td>\n",
       "      <td>4.00</td>\n",
       "      <td>0.0</td>\n",
       "      <td>3.46</td>\n",
       "      <td>3.55</td>\n",
       "      <td>3.00</td>\n",
       "      <td>3.75</td>\n",
       "    </tr>\n",
       "    <tr>\n",
       "      <th>5</th>\n",
       "      <td>4.67</td>\n",
       "      <td>4.50</td>\n",
       "      <td>3.00</td>\n",
       "      <td>4.14</td>\n",
       "      <td>5.00</td>\n",
       "      <td>4.19</td>\n",
       "      <td>3.94</td>\n",
       "      <td>4.52</td>\n",
       "      <td>3.50</td>\n",
       "      <td>0.0</td>\n",
       "      <td>3.73</td>\n",
       "      <td>4.00</td>\n",
       "      <td>4.38</td>\n",
       "      <td>0.0</td>\n",
       "      <td>4.33</td>\n",
       "      <td>4.08</td>\n",
       "      <td>4.60</td>\n",
       "      <td>4.18</td>\n",
       "    </tr>\n",
       "  </tbody>\n",
       "</table>\n",
       "</div>"
      ],
      "text/plain": [
       "        Avg_Animation  Avg_Action  Avg_Horror  Avg_Crime  Avg_Western  \\\n",
       "userId                                                                  \n",
       "1                3.65        3.73        3.74       3.81         3.38   \n",
       "2                3.00        4.63        3.56       5.00         4.50   \n",
       "3                3.75        4.11        3.94       4.29         4.33   \n",
       "4                4.00        3.54        0.00       3.17         4.00   \n",
       "5                4.67        4.50        3.00       4.14         5.00   \n",
       "\n",
       "        Avg_Drama  Avg_Romance  Avg_Adventure  Avg_Mystery  Avg_Documentary  \\\n",
       "userId                                                                        \n",
       "1            3.77         3.95           3.79         3.61              0.0   \n",
       "2            3.89         3.83           4.82         4.50              0.0   \n",
       "3            4.22         4.06           4.22         4.36              4.0   \n",
       "4            3.75         3.50           3.83         2.67              0.0   \n",
       "5            4.19         3.94           4.52         3.50              0.0   \n",
       "\n",
       "        Avg_Fantasy  Avg_War  Avg_Musical  Avg_Film-Noir  Avg_Thriller  \\\n",
       "userId                                                                   \n",
       "1              3.79     3.67         3.67            0.0          3.76   \n",
       "2              2.00     4.25         3.00            5.0          4.26   \n",
       "3              4.30     4.67         4.00            3.0          4.26   \n",
       "4              3.67     4.00         4.00            0.0          3.46   \n",
       "5              3.73     4.00         4.38            0.0          4.33   \n",
       "\n",
       "        Avg_Comedy  Avg_Sci-Fi  Avg_Children  \n",
       "userId                                        \n",
       "1             3.73        3.71          3.61  \n",
       "2             3.90        4.61          3.00  \n",
       "3             4.06        4.00          4.30  \n",
       "4             3.55        3.00          3.75  \n",
       "5             4.08        4.60          4.18  "
      ]
     },
     "execution_count": 52,
     "metadata": {},
     "output_type": "execute_result"
    }
   ],
   "source": [
    "genre_ratings = genre_ratings.replace(math.nan, 0)\n",
    "genre_ratings.head()"
   ]
  },
  {
   "cell_type": "code",
   "execution_count": 56,
   "metadata": {
    "ExecuteTime": {
     "end_time": "2019-07-10T04:52:40.291790Z",
     "start_time": "2019-07-10T04:52:40.273431Z"
    }
   },
   "outputs": [],
   "source": [
    "# Let's turn our dataset into a list\n",
    "X = genre_ratings[column_names].values"
   ]
  },
  {
   "cell_type": "code",
   "execution_count": 57,
   "metadata": {
    "ExecuteTime": {
     "end_time": "2019-07-10T04:57:07.002828Z",
     "start_time": "2019-07-10T04:56:40.540781Z"
    }
   },
   "outputs": [
    {
     "name": "stderr",
     "output_type": "stream",
     "text": [
      "/Users/praneet/anaconda3/envs/deep_learning/lib/python3.5/site-packages/sklearn/utils/fixes.py:313: FutureWarning: numpy not_equal will not check object identity in the future. The comparison did not return the same result as suggested by the identity (`is`)) and will change.\n",
      "  _nan_object_mask = _nan_object_array != _nan_object_array\n"
     ]
    }
   ],
   "source": [
    "# TODO: Import KMeans\n",
    "from sklearn.cluster import KMeans\n",
    "\n",
    "# TODO: Create an instance of KMeans to find two clusters\n",
    "kmeans_1 = KMeans(n_clusters=18, random_state=0)\n",
    "\n",
    "# TODO: use fit_predict to cluster the dataset\n",
    "predictions = kmeans_1.fit_predict(X)"
   ]
  },
  {
   "cell_type": "code",
   "execution_count": null,
   "metadata": {},
   "outputs": [],
   "source": []
  }
 ],
 "metadata": {
  "kernelspec": {
   "display_name": "Python 3",
   "language": "python",
   "name": "python3"
  },
  "language_info": {
   "codemirror_mode": {
    "name": "ipython",
    "version": 3
   },
   "file_extension": ".py",
   "mimetype": "text/x-python",
   "name": "python",
   "nbconvert_exporter": "python",
   "pygments_lexer": "ipython3",
   "version": "3.5.6"
  },
  "varInspector": {
   "cols": {
    "lenName": 16,
    "lenType": 16,
    "lenVar": 40
   },
   "kernels_config": {
    "python": {
     "delete_cmd_postfix": "",
     "delete_cmd_prefix": "del ",
     "library": "var_list.py",
     "varRefreshCmd": "print(var_dic_list())"
    },
    "r": {
     "delete_cmd_postfix": ") ",
     "delete_cmd_prefix": "rm(",
     "library": "var_list.r",
     "varRefreshCmd": "cat(var_dic_list()) "
    }
   },
   "position": {
    "height": "144px",
    "left": "1095px",
    "right": "20px",
    "top": "275px",
    "width": "350px"
   },
   "types_to_exclude": [
    "module",
    "function",
    "builtin_function_or_method",
    "instance",
    "_Feature"
   ],
   "window_display": false
  }
 },
 "nbformat": 4,
 "nbformat_minor": 2
}
